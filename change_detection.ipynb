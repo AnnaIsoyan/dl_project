{
  "nbformat": 4,
  "nbformat_minor": 0,
  "metadata": {
    "colab": {
      "provenance": [],
      "private_outputs": true,
      "toc_visible": true,
      "include_colab_link": true
    },
    "kernelspec": {
      "name": "python3",
      "display_name": "Python 3"
    },
    "language_info": {
      "name": "python"
    },
    "gpuClass": "standard",
    "accelerator": "GPU"
  },
  "cells": [
    {
      "cell_type": "markdown",
      "metadata": {
        "id": "view-in-github",
        "colab_type": "text"
      },
      "source": [
        "<a href=\"https://colab.research.google.com/github/AnnaIsoyan/dl_project/blob/main/change_detection.ipynb\" target=\"_parent\"><img src=\"https://colab.research.google.com/assets/colab-badge.svg\" alt=\"Open In Colab\"/></a>"
      ]
    },
    {
      "cell_type": "code",
      "execution_count": null,
      "metadata": {
        "id": "qw9bFQLkb8iP"
      },
      "outputs": [],
      "source": [
        "from google.colab import drive\n",
        "drive.mount('/content/drive')"
      ]
    },
    {
      "cell_type": "code",
      "source": [
        "ls"
      ],
      "metadata": {
        "id": "xJGpz6cYdEqQ"
      },
      "execution_count": null,
      "outputs": []
    },
    {
      "cell_type": "code",
      "source": [
        "cd 'drive/MyDrive/Change_detection/Data'"
      ],
      "metadata": {
        "id": "BDDkB7v1cGBK"
      },
      "execution_count": null,
      "outputs": []
    },
    {
      "cell_type": "code",
      "source": [
        "!unzip train.zip -d 'train'\n",
        "!unzip test.zip -d 'test'\n",
        "!unzip val.zip  -d 'val'"
      ],
      "metadata": {
        "id": "CRBCcPcJe6Jo"
      },
      "execution_count": null,
      "outputs": []
    },
    {
      "cell_type": "code",
      "source": [
        "import os\n",
        "import cv2\n",
        "import numpy as np\n",
        "import matplotlib.pyplot as plt"
      ],
      "metadata": {
        "id": "NisZQ_4XtP7o"
      },
      "execution_count": null,
      "outputs": []
    },
    {
      "cell_type": "code",
      "source": [
        "import keras\n",
        "from keras.layers import Conv2D, Conv2DTranspose, InputLayer, Layer, Input, Dropout, MaxPool2D, concatenate, BatchNormalization\n",
        "from tensorflow.keras.optimizers import Adam\n",
        "from keras.callbacks import EarlyStopping, ModelCheckpoint\n",
        "from math import log\n",
        "import tensorflow as tf\n",
        "from tensorflow.keras import Model\n",
        "from tensorflow.keras import metrics"
      ],
      "metadata": {
        "id": "1e0Cq6bJJMkR"
      },
      "execution_count": null,
      "outputs": []
    },
    {
      "cell_type": "code",
      "source": [
        "def read_img(path):\n",
        "  img_l = []\n",
        "  images = sorted(\n",
        "      [\n",
        "          os.path.join(path, fname)\n",
        "          for fname in os.listdir(path)\n",
        "          if fname.endswith(\".png\")\n",
        "      ]\n",
        "  )\n",
        "  for i in images:\n",
        "    img = cv2.imread(i)\n",
        "    # img = cv2.cvtColor(img,cv2.COLOR_BGR2GRAY)\n",
        "    img = cv2.resize(img,(256,256))/256\n",
        "    img_l.append(img)\n",
        "\n",
        "  return img_l\n"
      ],
      "metadata": {
        "id": "EBvZmowYx9rq"
      },
      "execution_count": null,
      "outputs": []
    },
    {
      "cell_type": "code",
      "source": [
        "train_A = read_img('train/A')\n",
        "train_B = read_img('train/B')\n",
        "train_label = read_img('train/label')"
      ],
      "metadata": {
        "id": "oBBcRuLyLDA0"
      },
      "execution_count": null,
      "outputs": []
    },
    {
      "cell_type": "code",
      "source": [
        "val_A = read_img('val/A')\n",
        "val_B = read_img('val/B')\n",
        "val_label = read_img('val/label')"
      ],
      "metadata": {
        "id": "Rmff8L2dLXeH"
      },
      "execution_count": null,
      "outputs": []
    },
    {
      "cell_type": "code",
      "source": [
        "train_A = np.array(train_A)\n",
        "train_B = np.array(train_B)\n",
        "train_label = np.array(train_label)\n",
        "val_A = np.array(val_A)\n",
        "val_B = np.array(val_B)\n",
        "val_label = np.array(val_label)"
      ],
      "metadata": {
        "id": "1gKyp49_vPuE"
      },
      "execution_count": null,
      "outputs": []
    },
    {
      "cell_type": "code",
      "source": [
        "train_A.shape"
      ],
      "metadata": {
        "id": "fk71MVfJ9U_1"
      },
      "execution_count": null,
      "outputs": []
    },
    {
      "cell_type": "code",
      "source": [
        "plt.imshow(train_A[0])\n",
        "print(train_A[5].shape)"
      ],
      "metadata": {
        "id": "9cnuGnnRLmo4"
      },
      "execution_count": null,
      "outputs": []
    },
    {
      "cell_type": "code",
      "source": [
        "plt.imshow(train_B[0]);"
      ],
      "metadata": {
        "id": "7EW6J7Xy3ZOn"
      },
      "execution_count": null,
      "outputs": []
    },
    {
      "cell_type": "code",
      "source": [
        "plt.imshow(train_label[0]);"
      ],
      "metadata": {
        "id": "6is2Iaqr3dcN"
      },
      "execution_count": null,
      "outputs": []
    },
    {
      "cell_type": "code",
      "source": [
        "class SUD_enc(Layer):\n",
        "    \"\"\"SiamUnet_diff segmentation network.\"\"\"\n",
        "\n",
        "    def __init__(self, filters, rate, pooling=True):\n",
        "      super(SUD_enc, self).__init__()\n",
        "      self.pooling = pooling\n",
        "      self.filters = filters\n",
        "      self.rate = rate\n",
        "      self.pool = MaxPool2D(pool_size=(2,2))\n",
        "\n",
        "      self.c1 = Conv2D(self.filters, kernel_size=3, padding='same', activation='relu')\n",
        "      self.c11 = Conv2D(16, kernel_size=3, padding='same', activation='relu')\n",
        "      self.c111 = Conv2D(16, kernel_size=3, padding='same', activation='relu')\n",
        "      self.bn1 = tf.keras.layers.BatchNormalization(momentum=0.99,epsilon=0.001)\n",
        "      self.drop1 = Dropout(self.rate)\n",
        "\n",
        "      self.c2 = Conv2D(16, kernel_size=3, padding='same', activation='relu')\n",
        "      self.c22 = Conv2D(32, kernel_size=3, padding='same', activation='relu')\n",
        "      self.c222 = Conv2D(32, kernel_size=3, padding='same', activation='relu')\n",
        "      self.bn2 = tf.keras.layers.BatchNormalization(momentum=0.99,epsilon=0.001)\n",
        "      self.drop2 = Dropout(self.rate)\n",
        "\n",
        "      self.c3 = Conv2D(32, kernel_size=3, padding='same', activation='relu')\n",
        "      self.c33 = Conv2D(64, kernel_size=3, padding='same', activation='relu')\n",
        "      self.c333 = Conv2D(64, kernel_size=3, padding='same', activation='relu')\n",
        "      self.c3333 = Conv2D(64, kernel_size=3, padding='same', activation='relu')\n",
        "      self.bn3 = tf.keras.layers.BatchNormalization(momentum=0.99,epsilon=0.001)\n",
        "      self.drop3 = Dropout(self.rate)\n",
        "\n",
        "      self.c4 = Conv2D(64, kernel_size=3, padding='same', activation='relu')\n",
        "      self.c44 = Conv2D(128, kernel_size=3, padding='same', activation='relu')\n",
        "      self.c444 = Conv2D(128, kernel_size=3, padding='same', activation='relu')\n",
        "      self.c4444 = Conv2D(128, kernel_size=3, padding='same', activation='relu')\n",
        "      self.bn4 = tf.keras.layers.BatchNormalization(momentum=0.99,epsilon=0.001)\n",
        "      self.drop4 = Dropout(self.rate)\n",
        "\n",
        "      self.ct1 = Conv2DTranspose(128, kernel_size=3, strides=2, padding='same')\n",
        "\n",
        "      self.cv1 = Conv2DTranspose(128, kernel_size=3, padding='same', activation='relu')\n",
        "      self.cv11 = Conv2DTranspose(128, kernel_size=3, padding='same', activation='relu')\n",
        "      self.cv111 = Conv2DTranspose(64, kernel_size=3, padding='same', activation='relu')\n",
        "      self.dr1 = Dropout(self.rate)\n",
        "      \n",
        "      self.ct2 = Conv2DTranspose(64, kernel_size=3, strides=2, padding='same')\n",
        "\n",
        "      self.cv2 = Conv2DTranspose(64, kernel_size=3, padding='same', activation='relu')\n",
        "      self.cv22 = Conv2DTranspose(64, kernel_size=3, padding='same', activation='relu')\n",
        "      self.cv222 = Conv2DTranspose(32, kernel_size=3, padding='same', activation='relu')\n",
        "\n",
        "      self.dr2 = Dropout(self.rate)\n",
        "\n",
        "      self.ct3 = Conv2DTranspose(32, kernel_size=3, strides=2, padding='same')\n",
        "\n",
        "      self.cv3 = Conv2DTranspose(32, kernel_size=3, padding='same', activation='relu')\n",
        "      self.cv33 = Conv2DTranspose(16, kernel_size=3, padding='same', activation='relu')\n",
        "      self.dr3 = Dropout(self.rate)\n",
        "\n",
        "      self.ct4 = Conv2DTranspose(16, kernel_size=3, strides=2, padding='same')\n",
        "\n",
        "      self.cv4 = Conv2DTranspose(16, kernel_size=3, padding='same', activation='relu')\n",
        "      self.cv44 = Conv2DTranspose(3, kernel_size=3, padding='same', activation='sigmoid')\n",
        "      self.dr4 = Dropout(self.rate)\n",
        "\n",
        "\n",
        "      self.pool = MaxPool2D(pool_size=(2,2))\n",
        "    def call(self, x1,x2):\n",
        "      # Stage 1\n",
        "      x11 = self.bn1(self.drop1(self.c1(x1)))\n",
        "      # x11 = self.drop1(self.c11(x11))\n",
        "      x11 = self.c11(x11)\n",
        "      # x11 = self.c111(x11)\n",
        "      y11 = self.pool(x11)\n",
        "\n",
        "      x21 = self.bn1(self.drop1(self.c1(x2)))\n",
        "      # x21 = self.drop1(self.c11(x21))\n",
        "      x21 = self.c11(x21)\n",
        "      # x21 = self.c111(x21)\n",
        "      y21 = self.pool(x21)\n",
        "\n",
        "      #stage 2\n",
        "      x12 = self.bn2(self.drop2(self.c2(y11)))\n",
        "      # x12 = self.drop2(self.c22(x12))\n",
        "      x12 = self.c22(x12)\n",
        "      # x12 = self.c222(x12)\n",
        "      y12 = self.pool(x12) \n",
        "       \n",
        "      x22 = self.bn2(self.drop2(self.c2(y21)))\n",
        "      # x22 = self.drop2(self.c22(x22))\n",
        "      x22 = self.c22(x22)\n",
        "      # x22 = self.c222(x22)\n",
        "      y22 = self.pool(x22)       \n",
        "      \n",
        "      #stage 3 \n",
        "      x13 = self.bn3(self.drop3(self.c3(y12)))\n",
        "      # x13 = self.drop3(self.c33(x13))\n",
        "      x13 = self.c33(x13)\n",
        "      x13 = self.c333(x13)\n",
        "      # x13 = self.c3333(x13) \n",
        "      y13 = self.pool(x13)\n",
        "\n",
        "      x23 = self.bn3(self.drop3(self.c3(y22)))\n",
        "      # x23 = self.drop3(self.c33(x23))\n",
        "      x23 = self.c33(x23)\n",
        "      x23 = self.c333(x23)\n",
        "      # x23 = self.c3333(x23) \n",
        "      y23 = self.pool(x23)\n",
        "\n",
        "      #stage 4 \n",
        "      x14 = self.bn4(self.drop4(self.c4(y13)))\n",
        "      # x14 = self.drop4(self.c44(x14))\n",
        "      x14 = self.c44(x14)\n",
        "      x14 = self.c444(x14)\n",
        "      # x14 = self.c4444(x14)     \n",
        "      y14 = self.pool(x14)\n",
        "\n",
        "      x24 = self.bn4(self.drop4(self.c4(y23)))\n",
        "      # x24 = self.drop4(self.c44(x24))\n",
        "      x24 = self.c44(x24)\n",
        "      x24 = self.c444(x24)\n",
        "      # x24 = self.c4444(x24) \n",
        "      y24 = self.pool(x24)\n",
        "\n",
        "      #stage 4d\n",
        "      p1 = self.ct1(y14)\n",
        "      p1 = self.cv1(concatenate([p1, tf.abs(x24 - x14)]))\n",
        "      p1 = self.dr1(p1)\n",
        "      p1 = self.cv11(p1)\n",
        "      # p1 = self.dr1(p1)\n",
        "      p1 = self.cv111(p1)\n",
        "      # p1 = self.dr1(p1)\n",
        "\n",
        "      #stage 3d\n",
        "      p2 = self.ct2(p1)\n",
        "      p2 = self.cv2(concatenate([p2, tf.abs(x23 - x13)]))\n",
        "      p2 = self.dr2(p2)\n",
        "      p2 = self.cv22(p2)\n",
        "      # p2 = self.dr2(p2)\n",
        "      p2 = self.cv222(p2)\n",
        "      # p2 = self.dr2(p2) \n",
        "      \n",
        "      #stage 2d\n",
        "      p3 = self.ct3(p2)\n",
        "      p3 = self.cv3(concatenate([p3, tf.abs(x22 - x12)]))\n",
        "      # p3 = self.dr3(p3)\n",
        "      p3 = self.cv33(p3)\n",
        "      # p3 = self.dr3(p3)\n",
        "\n",
        "      #stage 1 d\n",
        "      p4 = self.ct4(p3)\n",
        "      p4 = self.cv4(concatenate([p4, tf.abs(x21 - x11)]))\n",
        "      p4 = self.dr4(p4)\n",
        "      p4 = self.cv44(p4)\n",
        "\n",
        "\n",
        "      return p4\n"
      ],
      "metadata": {
        "id": "-fE7mqL4daSG"
      },
      "execution_count": null,
      "outputs": []
    },
    {
      "cell_type": "code",
      "source": [
        "input_layer1 = Input(shape=(256,256,3))\n",
        "input_layer2 = Input(shape=(256,256,3))\n",
        "\n",
        "output = SUD_enc(16,0.2)(input_layer1,input_layer2)\n",
        "output"
      ],
      "metadata": {
        "id": "9j9Fx1_6Wp0n"
      },
      "execution_count": null,
      "outputs": []
    },
    {
      "cell_type": "code",
      "source": [
        "unetsiam_diff = Model(\n",
        "    inputs=[input_layer1,input_layer2], outputs=output\n",
        ")\n"
      ],
      "metadata": {
        "id": "mqg6VvjMF6Wi"
      },
      "execution_count": null,
      "outputs": []
    },
    {
      "cell_type": "code",
      "source": [
        "unetsiam_diff.compile(loss='binary_crossentropy',\n",
        "                      optimizer=Adam(learning_rate=0.01),\n",
        "                      metrics=['categorical_accuracy'])"
      ],
      "metadata": {
        "id": "PPnW0dqOJTOP"
      },
      "execution_count": null,
      "outputs": []
    },
    {
      "cell_type": "code",
      "source": [
        "unetsiam_diff.summary()"
      ],
      "metadata": {
        "id": "7inTqWH5JXoc"
      },
      "execution_count": null,
      "outputs": []
    },
    {
      "cell_type": "code",
      "source": [
        "callbacks =[\n",
        "    EarlyStopping(patience=5, restore_best_weights=True),\n",
        "    ModelCheckpoint(\"SiamUNet_diff.h5\", save_best_only=True),\n",
        "]"
      ],
      "metadata": {
        "id": "OGOMTrhHGvvH"
      },
      "execution_count": null,
      "outputs": []
    },
    {
      "cell_type": "code",
      "source": [
        "unetsiam_diff.fit(\n",
        "    x = [train_A,train_B],\n",
        "    y = train_label,\n",
        "    validation_data=([val_A,val_B], val_label),\n",
        "    epochs=50,\n",
        "    batch_size=32,\n",
        "    # callbacks=[metrics],\n",
        ")\n"
      ],
      "metadata": {
        "id": "WBMG-HZcA3u5"
      },
      "execution_count": null,
      "outputs": []
    },
    {
      "cell_type": "code",
      "source": [
        "# X_train = train_A\n",
        "# X2_train = train_B\n",
        "# y_train = train_label\n",
        "# for i in range(90):\n",
        "#   X_train[i] = train_A[0]\n",
        "#   X2_train[i] = train_B[0]\n",
        "#   y_train[i] = train_label[0] \n",
        "# for i in range(90,180):\n",
        "#   X_train[i] = train_A[1]\n",
        "#   X2_train[i] = train_B[1]\n",
        "#   y_train[i] = train_label[1]\n",
        "# for i in range(180,270):\n",
        "#   X_train[i] = train_A[2]\n",
        "#   X2_train[i] = train_B[2]\n",
        "#   y_train[i] = train_label[2]  \n",
        "# for i in range(270,360):\n",
        "#   X_train[i] = train_A[3]\n",
        "#   X2_train[i] = train_B[3]\n",
        "#   y_train[i] = train_label[3]\n",
        "# for i in range(360,445):\n",
        "#   X_train[i] = train_A[4]\n",
        "#   X2_train[i] = train_B[4]\n",
        "#   y_train[i] = train_label[4]"
      ],
      "metadata": {
        "id": "3FLnR10NinjX"
      },
      "execution_count": null,
      "outputs": []
    },
    {
      "cell_type": "code",
      "source": [
        "# unetsiam_diff.fit(\n",
        "#     x = [X_train,X2_train],\n",
        "#     y = y_train,\n",
        "#     validation_data=([val_A,val_B], val_label),\n",
        "#     epochs=10,\n",
        "#     batch_size=32,\n",
        "#     # callbacks=[metrics],\n",
        "# )\n"
      ],
      "metadata": {
        "id": "9us-LkQEjry8"
      },
      "execution_count": null,
      "outputs": []
    },
    {
      "cell_type": "code",
      "source": [
        "unetsiam_diff.save_weights(filepath='weight.h5')\n",
        "unetsiam_diff.save('model')\n",
        "\n",
        "# model = keras.models.load_model('path/to/location')"
      ],
      "metadata": {
        "id": "B1iN2YdTDCgv"
      },
      "execution_count": null,
      "outputs": []
    },
    {
      "cell_type": "code",
      "source": [
        "test_A = read_img('test/A')\n",
        "test_B = read_img('test/B')\n",
        "test_label = read_img('test/label')"
      ],
      "metadata": {
        "id": "AhqSFs33IVnF"
      },
      "execution_count": null,
      "outputs": []
    },
    {
      "cell_type": "code",
      "source": [
        "test_A = np.array(test_A)\n",
        "test_B = np.array(test_B)\n",
        "test_label = np.array(test_label)"
      ],
      "metadata": {
        "id": "THjHTOHxIace"
      },
      "execution_count": null,
      "outputs": []
    },
    {
      "cell_type": "code",
      "source": [
        "plt.imshow(val_A[63]);"
      ],
      "metadata": {
        "id": "EgQ7qiHeIiI3"
      },
      "execution_count": null,
      "outputs": []
    },
    {
      "cell_type": "code",
      "source": [
        "plt.imshow(val_B[63]);"
      ],
      "metadata": {
        "id": "pkqpILGWIn_Z"
      },
      "execution_count": null,
      "outputs": []
    },
    {
      "cell_type": "code",
      "source": [
        "plt.imshow(val_label[63]);"
      ],
      "metadata": {
        "id": "T1el-tKeIrTw"
      },
      "execution_count": null,
      "outputs": []
    },
    {
      "cell_type": "code",
      "source": [
        "test_B[0].shape"
      ],
      "metadata": {
        "id": "Q-bm3GhAKQaw"
      },
      "execution_count": null,
      "outputs": []
    },
    {
      "cell_type": "code",
      "source": [
        "cd '/content'"
      ],
      "metadata": {
        "id": "_DZJEwybqkf9"
      },
      "execution_count": null,
      "outputs": []
    },
    {
      "cell_type": "code",
      "source": [
        "cd 'drive/MyDrive/My_drive/Change_detection/Data'"
      ],
      "metadata": {
        "id": "ZXCegbbJqmf7"
      },
      "execution_count": null,
      "outputs": []
    },
    {
      "cell_type": "code",
      "source": [
        "# unetsiam_diff.load_weights(\"final_weight.h5\")"
      ],
      "metadata": {
        "id": "goQkTWudrmck"
      },
      "execution_count": null,
      "outputs": []
    },
    {
      "cell_type": "code",
      "source": [
        "pred=unetsiam_diff.predict(x=[test_A,test_B],\n",
        "                           verbose=\"auto\")"
      ],
      "metadata": {
        "id": "BD4W6FGIHivU"
      },
      "execution_count": null,
      "outputs": []
    },
    {
      "cell_type": "code",
      "source": [
        "pred1=unetsiam_diff.predict(x=[val_A,val_B])"
      ],
      "metadata": {
        "id": "_ieSD4pn-oPe"
      },
      "execution_count": null,
      "outputs": []
    },
    {
      "cell_type": "code",
      "source": [
        "# unetsiam_diff.get_weights()"
      ],
      "metadata": {
        "id": "rdhkz_iHtTvh"
      },
      "execution_count": null,
      "outputs": []
    },
    {
      "cell_type": "code",
      "source": [
        "plt.imshow(val_A[9])"
      ],
      "metadata": {
        "id": "6669wI8adCoD"
      },
      "execution_count": null,
      "outputs": []
    },
    {
      "cell_type": "code",
      "source": [
        "plt.imshow(pred[9]);"
      ],
      "metadata": {
        "id": "8U8U4N8kx-09"
      },
      "execution_count": null,
      "outputs": []
    },
    {
      "cell_type": "code",
      "source": [
        "plt.imshow(val_label[9]);"
      ],
      "metadata": {
        "id": "mOR6XO-M-GeB"
      },
      "execution_count": null,
      "outputs": []
    }
  ]
}